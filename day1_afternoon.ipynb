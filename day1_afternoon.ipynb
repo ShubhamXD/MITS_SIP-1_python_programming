{
  "nbformat": 4,
  "nbformat_minor": 0,
  "metadata": {
    "colab": {
      "name": "day1_afternoon.ipynb",
      "provenance": [],
      "authorship_tag": "ABX9TyMrCJD7XAl9L//kYm54AOrc",
      "include_colab_link": true
    },
    "kernelspec": {
      "name": "python3",
      "display_name": "Python 3"
    },
    "language_info": {
      "name": "python"
    }
  },
  "cells": [
    {
      "cell_type": "markdown",
      "metadata": {
        "id": "view-in-github",
        "colab_type": "text"
      },
      "source": [
        "<a href=\"https://colab.research.google.com/github/ShubhamXD/MITS_SIP-1_python_programming/blob/main/day1_afternoon.ipynb\" target=\"_parent\"><img src=\"https://colab.research.google.com/assets/colab-badge.svg\" alt=\"Open In Colab\"/></a>"
      ]
    },
    {
      "cell_type": "code",
      "execution_count": null,
      "metadata": {
        "id": "7uNy4RQ5yul3"
      },
      "outputs": [],
      "source": [
        "#String"
      ]
    },
    {
      "cell_type": "code",
      "source": [
        "string1=\"Animals\"\n",
        "print(string1.lower())\n",
        "print(string1.upper())\n",
        "\n",
        "string2=\"  Shubham     \"\n",
        "print(string2.strip())\n",
        "\n",
        "string2=\"Video.mkv\"\n",
        "print(string2.startswith(\"Vi\"))\n",
        "print(string2.endswith(\".mkv\"))\n"
      ],
      "metadata": {
        "colab": {
          "base_uri": "https://localhost:8080/"
        },
        "id": "CcxolFx4y2km",
        "outputId": "5d8f1b43-a416-4859-ac07-7c0ad994c199"
      },
      "execution_count": null,
      "outputs": [
        {
          "output_type": "stream",
          "name": "stdout",
          "text": [
            "animals\n",
            "ANIMALS\n",
            "Shubham\n",
            "True\n",
            "True\n"
          ]
        }
      ]
    },
    {
      "cell_type": "code",
      "source": [
        "# amount, rate, years\n",
        "# calculate interest"
      ],
      "metadata": {
        "id": "5XEdMmNn0RKi"
      },
      "execution_count": null,
      "outputs": []
    },
    {
      "cell_type": "code",
      "source": [
        "amount=float(input(\"Enter Amount:\"))\n",
        "rate=float(input(\"Enter rate:\"))\n",
        "years=float(input(\"Enter years:\"))\n",
        "interest= (amount*rate*years)/100\n",
        "print(interest)"
      ],
      "metadata": {
        "colab": {
          "base_uri": "https://localhost:8080/"
        },
        "id": "umIGrqpX0mns",
        "outputId": "12168d58-0b84-40c9-8fef-3ca31d5aad21"
      },
      "execution_count": null,
      "outputs": [
        {
          "output_type": "stream",
          "name": "stdout",
          "text": [
            "Enter Amount:1000\n",
            "Enter rate:10\n",
            "Enter years:2\n",
            "200.0\n"
          ]
        }
      ]
    },
    {
      "cell_type": "code",
      "source": [
        "# Palindrome\n",
        "data=\"amaama\""
      ],
      "metadata": {
        "id": "hJN2c7UU1fEn"
      },
      "execution_count": null,
      "outputs": []
    },
    {
      "cell_type": "code",
      "source": [
        "#symmetrical"
      ],
      "metadata": {
        "colab": {
          "base_uri": "https://localhost:8080/"
        },
        "id": "GexjVeoV14fC",
        "outputId": "be47bd7c-0d7d-4c40-9d6f-69d76a7730b6"
      },
      "execution_count": null,
      "outputs": [
        {
          "output_type": "stream",
          "name": "stdout",
          "text": [
            "4\n"
          ]
        }
      ]
    },
    {
      "cell_type": "code",
      "source": [
        "string = '12321' # \"12321\"\n",
        "half = int(len(string) / 2)\n",
        " \n",
        "if len(string) % 2 == 0:  # even\n",
        "    first_str = string[:half]\n",
        "    second_str = string[half:]\n",
        "else:  # odd   12321     f_S=12   s_s= 21\n",
        "    first_str = string[:half]\n",
        "    second_str = string[half+1:]\n",
        " \n",
        "# symmetric\n",
        "if first_str == second_str:  # ama ama\n",
        "    print(string, 'string is symmertical')\n",
        "else:\n",
        "    print(string, 'string is not symmertical')\n",
        " \n",
        "# palindrome  f_s=12  s_s=21  \n",
        "if first_str == second_str[::-1]:\n",
        "    print(string, 'string is palindrome')\n",
        "else:\n",
        "    print(string, 'string is not palindrome')"
      ],
      "metadata": {
        "colab": {
          "base_uri": "https://localhost:8080/"
        },
        "id": "CmeJKSxW2FSD",
        "outputId": "f426e10c-009e-41cc-ced4-f61d728feb53"
      },
      "execution_count": null,
      "outputs": [
        {
          "output_type": "stream",
          "name": "stdout",
          "text": [
            "12321 string is not symmertical\n",
            "12321 string is palindrome\n"
          ]
        }
      ]
    },
    {
      "cell_type": "code",
      "source": [
        "string=\"21\"\n",
        "print(string[::-1])"
      ],
      "metadata": {
        "colab": {
          "base_uri": "https://localhost:8080/"
        },
        "id": "JtMhnxmk3ZM8",
        "outputId": "b0f3604d-f008-4b9e-d8b6-2bfa667d49b9"
      },
      "execution_count": null,
      "outputs": [
        {
          "output_type": "stream",
          "name": "stdout",
          "text": [
            "12\n"
          ]
        }
      ]
    },
    {
      "cell_type": "code",
      "source": [
        "# To reverse words in a given string\n",
        "string=\"My name is shubham sharma\"\n",
        "rev=string.split()\n",
        "print(rev[::-1])"
      ],
      "metadata": {
        "colab": {
          "base_uri": "https://localhost:8080/"
        },
        "id": "cZnPOW6q5J8U",
        "outputId": "31383aa6-bfcb-471c-9c6b-17229d1b8266"
      },
      "execution_count": null,
      "outputs": [
        {
          "output_type": "stream",
          "name": "stdout",
          "text": [
            "['sharma', 'shubham', 'is', 'name', 'My']\n"
          ]
        }
      ]
    },
    {
      "cell_type": "code",
      "source": [
        ""
      ],
      "metadata": {
        "id": "DfdQ35_-6FRk"
      },
      "execution_count": null,
      "outputs": []
    },
    {
      "cell_type": "markdown",
      "source": [
        "Write a program for the following problem. \t\n",
        "A transportation company running a bus between two stations S and T. \n",
        "On the route from S to T the bus stops at intermediate stations A, B, C, D, and E \n",
        "in the same order. On a particular day, they have observed the following pattern in \n",
        "passengers traveling through the bus from S to T. Let X be the number of passengers\n",
        " initially in the bus at source S. \n",
        "1) At stage A, 10 passengers got down from the bus, and 12 passengers boarded into the bus. \n",
        "2) At stage B, 15 are boarded into the bus after 10 got down from it.\n",
        "3) At stage C, 5 are boarded into the bus after 2 getting off from it.\n",
        "4) At stage D, 22 passengers got down from the bus, and 28 passengers boarded into the bus.\n",
        "5) Finally, at stage E, 15 are boarded into the bus after 7 getting off from it.'''\n",
        "Compute the number of passengers traveled between every two stations on the route\n",
        "for a given X.\n",
        "(Read X as an input from the user.) \n",
        "###Sample Input:\n",
        "15\n",
        "\n",
        "###Sample output:\n",
        "the number passengers traveled from S to A : 15 \n",
        "the number passengers traveled from A to B : 17 \n",
        "the number passengers traveled from B to C : 22 \n",
        "the number passengers traveled from C to D : 25 \n",
        "the number passengers traveled from D to E : 31 \n",
        "the number passengers traveled from E to T : 39"
      ],
      "metadata": {
        "id": "F_bmj3z06RcA"
      }
    },
    {
      "cell_type": "code",
      "source": [
        "print(f\"the number passengers traveled from {} to {} : {}\")\n"
      ],
      "metadata": {
        "id": "08AIbYDg6TBg"
      },
      "execution_count": null,
      "outputs": []
    },
    {
      "cell_type": "code",
      "source": [
        "Andhra Pradesh Power Corporation Limited supplies electricity to peoples of Utter Pradesh. They have four ranges of charges for all the residential connections. The charges per unit with surcharge for different ranges of consumptions are given as follows.\n",
        "Unit Range\tRate per Unit\tSurcharge\n",
        "0-50\t2.60\t25\n",
        "50-100\t3.25\t35\n",
        "100-200\t5.26\t45\n",
        ">200\t8.45\t75\n",
        "Input:\n",
        "243\n",
        "Output:\n",
        "Electricity Bill = 1256.85\n",
        "Input:\n",
        "487\n",
        "Output:\n",
        "Electricity Bill = 3318.65"
      ],
      "metadata": {
        "id": "3CeSeG97_nxj"
      },
      "execution_count": null,
      "outputs": []
    }
  ]
}