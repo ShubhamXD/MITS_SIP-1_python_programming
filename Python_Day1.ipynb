{
  "nbformat": 4,
  "nbformat_minor": 0,
  "metadata": {
    "colab": {
      "name": "Python Day1.ipynb",
      "provenance": [],
      "collapsed_sections": [],
      "authorship_tag": "ABX9TyNAde4v2LNKk8sZIkO3vqaw",
      "include_colab_link": true
    },
    "kernelspec": {
      "name": "python3",
      "display_name": "Python 3"
    },
    "language_info": {
      "name": "python"
    }
  },
  "cells": [
    {
      "cell_type": "markdown",
      "metadata": {
        "id": "view-in-github",
        "colab_type": "text"
      },
      "source": [
        "<a href=\"https://colab.research.google.com/github/ShubhamXD/MITS_SIP-1_python_programming/blob/main/Python_Day1.ipynb\" target=\"_parent\"><img src=\"https://colab.research.google.com/assets/colab-badge.svg\" alt=\"Open In Colab\"/></a>"
      ]
    },
    {
      "cell_type": "code",
      "execution_count": null,
      "metadata": {
        "id": "BcM1olUhsh2G"
      },
      "outputs": [],
      "source": [
        "#IDE\n",
        "  1. VSCODE\n",
        "  2. Jupyter\n",
        "  3. Google Colab\n"
      ]
    },
    {
      "cell_type": "code",
      "source": [
        "# Variable\n",
        "a= 10\n",
        "b= True\n",
        "c= 3.14\n",
        "d= \"Jab\"\n",
        "print(a)\n",
        "print(b)"
      ],
      "metadata": {
        "colab": {
          "base_uri": "https://localhost:8080/"
        },
        "id": "4qgN6qaDs9Rh",
        "outputId": "7a828e6c-286f-4bd9-c3bc-c2c07cb1e229"
      },
      "execution_count": 3,
      "outputs": [
        {
          "output_type": "stream",
          "name": "stdout",
          "text": [
            "10\n",
            "True\n"
          ]
        }
      ]
    },
    {
      "cell_type": "code",
      "source": [
        "# list\n",
        "price= [10,20,30,40]\n",
        "print(price)\n",
        "price.append(50)\n",
        "print(price)\n"
      ],
      "metadata": {
        "colab": {
          "base_uri": "https://localhost:8080/"
        },
        "id": "1_IXGjXnt1hc",
        "outputId": "76e206c0-5b16-44e9-abc6-269f6f504402"
      },
      "execution_count": 6,
      "outputs": [
        {
          "output_type": "stream",
          "name": "stdout",
          "text": [
            "[10, 20, 30, 40]\n",
            "[10, 20, 30, 40, 50]\n"
          ]
        }
      ]
    },
    {
      "cell_type": "code",
      "source": [
        "a=10\n",
        "b=20\n",
        "c=a+b\n",
        "print(c)"
      ],
      "metadata": {
        "colab": {
          "base_uri": "https://localhost:8080/"
        },
        "id": "srjK_cfAuiFU",
        "outputId": "0c682f14-5a19-4d28-ea23-b7a25f0e2443"
      },
      "execution_count": 7,
      "outputs": [
        {
          "output_type": "stream",
          "name": "stdout",
          "text": [
            "30\n"
          ]
        }
      ]
    },
    {
      "cell_type": "code",
      "source": [
        "c= 5.25\n",
        "d= 2.25\n",
        "e=c/d\n",
        "print(e)\n"
      ],
      "metadata": {
        "colab": {
          "base_uri": "https://localhost:8080/"
        },
        "id": "ucHZ0u6luvDI",
        "outputId": "565d3129-e22d-4801-d6e5-a42174e7055b"
      },
      "execution_count": 11,
      "outputs": [
        {
          "output_type": "stream",
          "name": "stdout",
          "text": [
            "2.3333333333333335\n"
          ]
        }
      ]
    },
    {
      "cell_type": "code",
      "source": [
        "name= input(\"Enter your Name:\")"
      ],
      "metadata": {
        "colab": {
          "base_uri": "https://localhost:8080/"
        },
        "id": "BTbQKcG6vGJh",
        "outputId": "e7c77d75-24d7-4c0b-b42c-3c2735b9b6a7"
      },
      "execution_count": 12,
      "outputs": [
        {
          "name": "stdout",
          "output_type": "stream",
          "text": [
            "Enter your Name:Python Lab\n"
          ]
        }
      ]
    },
    {
      "cell_type": "code",
      "source": [
        "print(name)"
      ],
      "metadata": {
        "colab": {
          "base_uri": "https://localhost:8080/"
        },
        "id": "kctZQFBNvUkd",
        "outputId": "aa3986ff-aca9-4301-d42b-9b193656d015"
      },
      "execution_count": 13,
      "outputs": [
        {
          "output_type": "stream",
          "name": "stdout",
          "text": [
            "Python Lab\n"
          ]
        }
      ]
    },
    {
      "cell_type": "code",
      "source": [
        "branch= input(\"Branch:\")\n",
        "Year= input(\"Year:\")\n",
        "print(\"Branch:\"+branch+\"  Year:\"+Year)"
      ],
      "metadata": {
        "colab": {
          "base_uri": "https://localhost:8080/"
        },
        "id": "udCLENC7vbqg",
        "outputId": "bb9ec459-e14f-4ea1-d35d-cae115254b15"
      },
      "execution_count": 15,
      "outputs": [
        {
          "output_type": "stream",
          "name": "stdout",
          "text": [
            "Branch:IT\n",
            "Year:2022\n",
            "Branch:IT  Year:2022\n"
          ]
        }
      ]
    },
    {
      "cell_type": "code",
      "source": [
        "name=\"Python\"\n",
        "print(name[-1])"
      ],
      "metadata": {
        "colab": {
          "base_uri": "https://localhost:8080/"
        },
        "id": "7cJh3fsWwbFp",
        "outputId": "a9717adb-df1f-46ef-8460-69006eb6b76d"
      },
      "execution_count": 19,
      "outputs": [
        {
          "output_type": "stream",
          "name": "stdout",
          "text": [
            "n\n"
          ]
        }
      ]
    },
    {
      "cell_type": "code",
      "source": [
        "text=\"my name is Jack\"\n",
        "print(text[3:7])"
      ],
      "metadata": {
        "colab": {
          "base_uri": "https://localhost:8080/"
        },
        "id": "RW476tV7x2yP",
        "outputId": "57a38b43-be3d-4a7a-b586-85813c354f11"
      },
      "execution_count": 21,
      "outputs": [
        {
          "output_type": "stream",
          "name": "stdout",
          "text": [
            "name\n"
          ]
        }
      ]
    },
    {
      "cell_type": "code",
      "source": [
        "Name=\"Shubham Sharma\"\n",
        "a=Name.split() # split by space\n",
        "firstname=a[0]\n",
        "lastname=a[1]\n",
        "print(firstname)\n",
        "print(lastname)\n",
        "#OUTPUT: My name is shubham and my surname is shubham"
      ],
      "metadata": {
        "colab": {
          "base_uri": "https://localhost:8080/"
        },
        "id": "muumA4X_zDS-",
        "outputId": "e75a8c01-aabf-4b8b-e1d5-c1205d2f4e57"
      },
      "execution_count": 26,
      "outputs": [
        {
          "output_type": "stream",
          "name": "stdout",
          "text": [
            "Shubham\n",
            "Sharma\n"
          ]
        }
      ]
    },
    {
      "cell_type": "code",
      "source": [
        "paragraph='In linguistics and grammar, a sentence is a linguistic expression, such as the English example \"The quick brown fox jumps over the lazy dog.\" In traditional grammar, it is typically defined as a string of words that expresses a complete thought, or as a unit consisting of a subject and predicate. In non-functional linguistics it is typically defined as a maximal unit of syntactic structure such as a constituent. In functional linguistics, it is defined as a unit of written texts delimited by graphological features such as upper-case letters and markers such as periods, question marks, and exclamation marks. This notion contrasts with a curve, which is delimited by phonologic features such as pitch and loudness and markers such as pauses; and with a clause, which is a sequence of words that represents some process going on throughout time.[1]'"
      ],
      "metadata": {
        "id": "fdh_Dbn72XTJ"
      },
      "execution_count": 27,
      "outputs": []
    },
    {
      "cell_type": "code",
      "source": [
        "sentences=paragraph.split(\".\") # by default space\n",
        "print(sentences[1])"
      ],
      "metadata": {
        "colab": {
          "base_uri": "https://localhost:8080/"
        },
        "id": "7PnfmFuq2cmM",
        "outputId": "1d000434-c028-4ae1-dbe6-128a9758dbd9"
      },
      "execution_count": 29,
      "outputs": [
        {
          "output_type": "stream",
          "name": "stdout",
          "text": [
            "\" In traditional grammar, it is typically defined as a string of words that expresses a complete thought, or as a unit consisting of a subject and predicate\n"
          ]
        }
      ]
    },
    {
      "cell_type": "code",
      "source": [
        "Name=\"Shubham kumar Sharma\"\n"
      ],
      "metadata": {
        "colab": {
          "base_uri": "https://localhost:8080/"
        },
        "id": "hDPBPSGl23Zd",
        "outputId": "3e628eeb-3259-466d-b3d5-ac13f6846cd5"
      },
      "execution_count": 30,
      "outputs": [
        {
          "output_type": "stream",
          "name": "stdout",
          "text": [
            "['apple', 'banana#orange#cherry']\n"
          ]
        }
      ]
    },
    {
      "cell_type": "code",
      "source": [
        ""
      ],
      "metadata": {
        "id": "Q_eGdSAJ4E2U"
      },
      "execution_count": null,
      "outputs": []
    },
    {
      "cell_type": "markdown",
      "source": [
        "Conditions\n"
      ],
      "metadata": {
        "id": "xGTCStJw4F2J"
      }
    },
    {
      "cell_type": "code",
      "source": [
        "#if\n",
        "#if var1 condition var2:\n",
        "#  statement\n",
        "a=5\n",
        "b=5\n",
        "if a > b:\n",
        "    print(\"a is greater than b\")\n",
        "    print(a)\n",
        "\n",
        "#elseif\n",
        "elif a < b:\n",
        "  print(\"a is smaller than b\")\n",
        "  print(b)\n",
        "\n",
        "# else\n",
        "else:\n",
        "  print(\"a == b\")"
      ],
      "metadata": {
        "colab": {
          "base_uri": "https://localhost:8080/"
        },
        "id": "wOxD9XGB4T0A",
        "outputId": "bd495315-f39d-4061-8527-767ae93e6b50"
      },
      "execution_count": 34,
      "outputs": [
        {
          "output_type": "stream",
          "name": "stdout",
          "text": [
            "a == b\n"
          ]
        }
      ]
    },
    {
      "cell_type": "code",
      "source": [
        "# Test\n",
        "print(123 == \"123\")"
      ],
      "metadata": {
        "colab": {
          "base_uri": "https://localhost:8080/"
        },
        "id": "S_GxCGUx7IYX",
        "outputId": "df5cbbe4-9a23-49b2-e9e6-4a43c079461b"
      },
      "execution_count": 39,
      "outputs": [
        {
          "output_type": "stream",
          "name": "stdout",
          "text": [
            "False\n"
          ]
        }
      ]
    },
    {
      "cell_type": "code",
      "source": [
        "## Fill in the blank so that each of the following exp. are True\n",
        "a= 42 != \"42\"\n",
        "print(a)"
      ],
      "metadata": {
        "colab": {
          "base_uri": "https://localhost:8080/"
        },
        "id": "z0ZHAo6U79FK",
        "outputId": "9b8f3f94-88b0-4613-ff93-7a3dc91d09ff"
      },
      "execution_count": 42,
      "outputs": [
        {
          "output_type": "stream",
          "name": "stdout",
          "text": [
            "True\n"
          ]
        }
      ]
    },
    {
      "cell_type": "code",
      "source": [
        "print ((1 < 1) or (1 != 1))"
      ],
      "metadata": {
        "colab": {
          "base_uri": "https://localhost:8080/"
        },
        "id": "QG8Q2Maf8h2b",
        "outputId": "fb42e01a-6320-4379-cf39-54ec90b852b9"
      },
      "execution_count": 47,
      "outputs": [
        {
          "output_type": "stream",
          "name": "stdout",
          "text": [
            "False\n"
          ]
        }
      ]
    },
    {
      "cell_type": "code",
      "source": [
        "print((\"good\" != \"Good\"))\n",
        "print(not (True and \"A\" == \"B\"))"
      ],
      "metadata": {
        "colab": {
          "base_uri": "https://localhost:8080/"
        },
        "id": "hxZOQq9a9JPF",
        "outputId": "d368a826-75d1-4f18-9d18-3f0abc3f665c"
      },
      "execution_count": 51,
      "outputs": [
        {
          "output_type": "stream",
          "name": "stdout",
          "text": [
            "True\n",
            "True\n"
          ]
        }
      ]
    },
    {
      "cell_type": "code",
      "source": [
        "# Loop\n",
        "a= [1,2,3,4,5,6]\n",
        "for i in a:\n",
        "    print(i)"
      ],
      "metadata": {
        "colab": {
          "base_uri": "https://localhost:8080/"
        },
        "id": "0qJ2_n_U941E",
        "outputId": "6751117e-0d8c-42c8-d573-d0816372b774"
      },
      "execution_count": 52,
      "outputs": [
        {
          "output_type": "stream",
          "name": "stdout",
          "text": [
            "1\n",
            "2\n",
            "3\n",
            "4\n",
            "5\n",
            "6\n"
          ]
        }
      ]
    },
    {
      "cell_type": "code",
      "source": [
        "# range (a,b,c) a=10 b=101 c=10\n",
        "for i in range(10,101,10): # 2 is included and but 8 will not be included\n",
        "  print(i)"
      ],
      "metadata": {
        "colab": {
          "base_uri": "https://localhost:8080/"
        },
        "id": "FsshE1sP-_b5",
        "outputId": "f3c872e8-cf5b-4dbf-ca66-27aa36bb6513"
      },
      "execution_count": 56,
      "outputs": [
        {
          "output_type": "stream",
          "name": "stdout",
          "text": [
            "10\n",
            "20\n",
            "30\n",
            "40\n",
            "50\n",
            "60\n",
            "70\n",
            "80\n",
            "90\n",
            "100\n"
          ]
        }
      ]
    },
    {
      "cell_type": "code",
      "source": [
        "a=20\n",
        "for i in range(1,11):\n",
        "  print(i*a)"
      ],
      "metadata": {
        "colab": {
          "base_uri": "https://localhost:8080/"
        },
        "id": "jY1S6qeXAtxN",
        "outputId": "a96fb202-1b08-4bf1-a465-65e413c4c9f4"
      },
      "execution_count": 57,
      "outputs": [
        {
          "output_type": "stream",
          "name": "stdout",
          "text": [
            "20\n",
            "40\n",
            "60\n",
            "80\n",
            "100\n",
            "120\n",
            "140\n",
            "160\n",
            "180\n",
            "200\n"
          ]
        }
      ]
    },
    {
      "cell_type": "code",
      "source": [
        "*\n",
        "**\n",
        "***\n",
        "****\n",
        "*****"
      ],
      "metadata": {
        "id": "NW4ufs2HBBvl"
      },
      "execution_count": null,
      "outputs": []
    },
    {
      "cell_type": "markdown",
      "source": [
        ""
      ],
      "metadata": {
        "id": "nEWv_doyBnJh"
      }
    },
    {
      "cell_type": "code",
      "source": [
        "for i in range(1,6):\n",
        "    print(\"*\" * i)"
      ],
      "metadata": {
        "colab": {
          "base_uri": "https://localhost:8080/"
        },
        "id": "kp0R7PnZBIiw",
        "outputId": "70c74e3a-2e55-461e-cae9-7302f9246833"
      },
      "execution_count": 58,
      "outputs": [
        {
          "output_type": "stream",
          "name": "stdout",
          "text": [
            "*\n",
            "**\n",
            "***\n",
            "****\n",
            "*****\n"
          ]
        }
      ]
    },
    {
      "cell_type": "code",
      "source": [
        "print (\"ABC\"*5)"
      ],
      "metadata": {
        "colab": {
          "base_uri": "https://localhost:8080/"
        },
        "id": "0Oco4wfFBfpJ",
        "outputId": "95b31b57-20ef-4655-cca1-a5bd95417683"
      },
      "execution_count": 59,
      "outputs": [
        {
          "output_type": "stream",
          "name": "stdout",
          "text": [
            "ABCABCABCABCABC\n"
          ]
        }
      ]
    },
    {
      "cell_type": "code",
      "source": [
        "# break"
      ],
      "metadata": {
        "id": "52QV9Fb5B0Wu"
      },
      "execution_count": null,
      "outputs": []
    },
    {
      "cell_type": "code",
      "source": [
        "User data, math eng\n",
        "math=75 A+\n",
        "eng = 39 F\n",
        "status =fail\n",
        "A= 75+\n",
        "B= 50 -- 74\n",
        "C= 40 -- 49\n",
        "F =  < 40"
      ],
      "metadata": {
        "id": "4IeGx38_CIRJ"
      },
      "execution_count": null,
      "outputs": []
    },
    {
      "cell_type": "code",
      "source": [
        "math=71\n",
        "eng=39\n",
        "grade1=\"\"\n",
        "grade2=\"\"\n",
        "if math > 75:\n",
        "  grade1=\"A\"\n",
        "elif 50 <math< 75:\n",
        "  grade1=\"B\"\n",
        "elif 40 < math < 50:\n",
        "    grade1=\"C\"\n",
        "else:\n",
        "    grade1=\"F\"\n",
        "if eng > 75:\n",
        "  grade2=\"A\"\n",
        "elif 50 <eng< 75:\n",
        "  grade2=\"B\"\n",
        "elif 40 < eng < 50:\n",
        "    grade2=\"C\"\n",
        "else:\n",
        "    grade2=\"F\"\n",
        "print(grade1,grade2)\n",
        "if grade1 == \"F\" or grade2 == \"F\" :\n",
        "  print(\"Fail\")\n",
        "else:\n",
        "  print(\"Pass\")"
      ],
      "metadata": {
        "colab": {
          "base_uri": "https://localhost:8080/"
        },
        "id": "GWd9C6cWH8QE",
        "outputId": "05229b7d-ee4d-481a-e21f-7449f2ae34d5"
      },
      "execution_count": 71,
      "outputs": [
        {
          "output_type": "stream",
          "name": "stdout",
          "text": [
            "B F\n",
            "Fail\n"
          ]
        }
      ]
    },
    {
      "cell_type": "code",
      "source": [
        "math= input(\"Enter maths mark:\")\n",
        "print(type(math))\n",
        "math= int(math)\n",
        "print(type(math))"
      ],
      "metadata": {
        "colab": {
          "base_uri": "https://localhost:8080/",
          "height": 252
        },
        "id": "6keO6g1kEy_X",
        "outputId": "ea8c3ea8-d908-4aa3-ebf7-ac92abeda1ce"
      },
      "execution_count": 63,
      "outputs": [
        {
          "output_type": "stream",
          "name": "stdout",
          "text": [
            "Enter maths mark:shubham\n",
            "<class 'str'>\n"
          ]
        },
        {
          "output_type": "error",
          "ename": "ValueError",
          "evalue": "ignored",
          "traceback": [
            "\u001b[0;31m---------------------------------------------------------------------------\u001b[0m",
            "\u001b[0;31mValueError\u001b[0m                                Traceback (most recent call last)",
            "\u001b[0;32m<ipython-input-63-cc8c754e69ab>\u001b[0m in \u001b[0;36m<module>\u001b[0;34m()\u001b[0m\n\u001b[1;32m      1\u001b[0m \u001b[0mmath\u001b[0m\u001b[0;34m=\u001b[0m \u001b[0minput\u001b[0m\u001b[0;34m(\u001b[0m\u001b[0;34m\"Enter maths mark:\"\u001b[0m\u001b[0;34m)\u001b[0m\u001b[0;34m\u001b[0m\u001b[0;34m\u001b[0m\u001b[0m\n\u001b[1;32m      2\u001b[0m \u001b[0mprint\u001b[0m\u001b[0;34m(\u001b[0m\u001b[0mtype\u001b[0m\u001b[0;34m(\u001b[0m\u001b[0mmath\u001b[0m\u001b[0;34m)\u001b[0m\u001b[0;34m)\u001b[0m\u001b[0;34m\u001b[0m\u001b[0;34m\u001b[0m\u001b[0m\n\u001b[0;32m----> 3\u001b[0;31m \u001b[0mmath\u001b[0m\u001b[0;34m=\u001b[0m \u001b[0mint\u001b[0m\u001b[0;34m(\u001b[0m\u001b[0mmath\u001b[0m\u001b[0;34m)\u001b[0m\u001b[0;34m\u001b[0m\u001b[0;34m\u001b[0m\u001b[0m\n\u001b[0m\u001b[1;32m      4\u001b[0m \u001b[0mprint\u001b[0m\u001b[0;34m(\u001b[0m\u001b[0mtype\u001b[0m\u001b[0;34m(\u001b[0m\u001b[0mmath\u001b[0m\u001b[0;34m)\u001b[0m\u001b[0;34m)\u001b[0m\u001b[0;34m\u001b[0m\u001b[0;34m\u001b[0m\u001b[0m\n",
            "\u001b[0;31mValueError\u001b[0m: invalid literal for int() with base 10: 'shubham'"
          ]
        }
      ]
    },
    {
      "cell_type": "code",
      "source": [
        "# Calculate interest\n",
        "# amount, rate, years "
      ],
      "metadata": {
        "id": "3ukpHhd8FnYg"
      },
      "execution_count": null,
      "outputs": []
    },
    {
      "cell_type": "code",
      "source": [
        "num= 25_000_000_000 # 25000000000\n",
        "print(type(num))\n",
        "print(num)\n",
        "num1= 25e3\n",
        "print(typenum1)"
      ],
      "metadata": {
        "colab": {
          "base_uri": "https://localhost:8080/"
        },
        "id": "LjVrkGz9GB6-",
        "outputId": "4a77d01c-8dbc-4230-beda-bfec8443ea43"
      },
      "execution_count": 75,
      "outputs": [
        {
          "output_type": "stream",
          "name": "stdout",
          "text": [
            "<class 'int'>\n",
            "25000000000\n",
            "<class 'float'>\n"
          ]
        }
      ]
    },
    {
      "cell_type": "code",
      "source": [
        "name=\"Shubham\"\n",
        "std=10\n",
        "branch=\"CSE\"\n",
        "print(\"Name:\"+name+\"  std:\"+str(std)+\"  branch:\"+branch)\n",
        "print(f\"Name:{name}  std:{std}  branch:{branch}\")"
      ],
      "metadata": {
        "colab": {
          "base_uri": "https://localhost:8080/"
        },
        "id": "1R7-eW10LiK7",
        "outputId": "0ec8b36c-63e2-4bec-c3a7-0a58f6540293"
      },
      "execution_count": 78,
      "outputs": [
        {
          "output_type": "stream",
          "name": "stdout",
          "text": [
            "Name:Shubham  std:10  branch:CSE\n",
            "Name:Shubham  std:10  branch:CSE\n"
          ]
        }
      ]
    },
    {
      "cell_type": "code",
      "source": [
        "base = input(\"Enter a base: \")\n",
        "print(f\"type of base{type(base)}\")\n",
        "exponent = input(\"Enter an exponent: \")\n",
        "result = float(base) ** float(exponent)\n",
        "print(f\"{base} to the power of {exponent} = {result}\")"
      ],
      "metadata": {
        "colab": {
          "base_uri": "https://localhost:8080/"
        },
        "id": "JhkIGXv8MaXA",
        "outputId": "03d12d4b-5d03-4d7e-be41-5f54de313701"
      },
      "execution_count": 80,
      "outputs": [
        {
          "output_type": "stream",
          "name": "stdout",
          "text": [
            "Enter a base: 10\n",
            "type of base<class 'str'>\n",
            "Enter an exponent: 2\n",
            "10 to the power of 2 = 100.0\n"
          ]
        }
      ]
    },
    {
      "cell_type": "code",
      "source": [
        "num=10.15874\n",
        "print(round(num,2))  \n",
        "# Modulus  absolute\n",
        "num= -10\n",
        "print(abs(num))"
      ],
      "metadata": {
        "colab": {
          "base_uri": "https://localhost:8080/"
        },
        "id": "5x03I11JNL9Q",
        "outputId": "77e20837-1b2a-4fe2-8d65-46a10c5af4ab"
      },
      "execution_count": 82,
      "outputs": [
        {
          "output_type": "stream",
          "name": "stdout",
          "text": [
            "10.16\n",
            "10\n"
          ]
        }
      ]
    },
    {
      "cell_type": "code",
      "source": [
        "a=10"
      ],
      "metadata": {
        "colab": {
          "base_uri": "https://localhost:8080/"
        },
        "id": "ZpWFXQ71N5ew",
        "outputId": "0fe69903-25e1-4e3e-d98c-140dcd5070b9"
      },
      "execution_count": 90,
      "outputs": [
        {
          "output_type": "stream",
          "name": "stdout",
          "text": [
            "False\n"
          ]
        }
      ]
    },
    {
      "cell_type": "code",
      "source": [
        "print(f\"{3 ** .125:.3f}\")\n",
        "print(f\"${15000:,.2f}\")\n",
        "print(f\"{2/10:.0%}\")"
      ],
      "metadata": {
        "colab": {
          "base_uri": "https://localhost:8080/"
        },
        "id": "YWLIMo-LO-be",
        "outputId": "4ebecfb3-03b9-4f82-df3d-bfaaa7ec8ae9"
      },
      "execution_count": 94,
      "outputs": [
        {
          "output_type": "stream",
          "name": "stdout",
          "text": [
            "1.147\n",
            "$15,000.00\n",
            "20%\n"
          ]
        }
      ]
    }
  ]
}